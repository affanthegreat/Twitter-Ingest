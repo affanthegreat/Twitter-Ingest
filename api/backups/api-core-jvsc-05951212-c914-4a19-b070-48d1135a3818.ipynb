{
 "cells": [
  {
   "cell_type": "code",
   "execution_count": null,
   "metadata": {},
   "outputs": [],
   "source": [
    "#web dev. framework\n",
    "from flask import Flask, render_template, request, redirect, url_for\n",
    "from joblib import load\n",
    "from flask import jsonify\n",
    "#serializes data to JavaScript Object Notation (JSON) format\n",
    "\n",
    "app = Flask(__name__)\n",
    " \n",
    "@app.route(\"/\")\n",
    "def hello():\n",
    "  return \"Hello World!\"\n",
    "\n",
    "\n",
    "\n",
    "@app.route(\"/getimage/<page>\")\n",
    "def upload(page):\n",
    "  return render_template(f\"{page}.html\")\n",
    "\n",
    "@app.route('/uploadimage',methods=['GET'])\n",
    "def requestResults():\n",
    "    url = str(request.args[\"imageurl\"])\n",
    "    text = str(request.args['text'])\n",
    "    filename = str(request.args['filename'])\n",
    "    boilerplate = f'''\n",
    "                 <head>\n",
    "                  <meta name=\"twitter:card\" content=\"summary\" />\n",
    "                 <meta name=\"twitter:site\" content=\"@tapaway\" />\n",
    "                 <meta name=\"twitter:title\" content=\"demo\" />\n",
    "                 <meta name=\"twitter:description\" content=\"{text}\" />\n",
    "                 <meta name=\"twitter:image\" content=\"{url}\" />\n",
    "                 <meta name=\"twitter:url\" content=\"https://twitter.com\" />\n",
    "               </head>\n",
    "               <body>\n",
    "                <img src=\"{url}\" />\n",
    "               </body>\n",
    "    '''\n",
    "    file = open(f\"templates//{filename}.html\",'w')\n",
    "    file.write(boilerplate)\n",
    "    file.close()\n",
    "    response = {\n",
    "        \"action_status\":200\n",
    "    }\n",
    "    return jsonify(response)\n",
    "\n",
    "\n",
    "if __name__ == \"__main__\":\n",
    "  app.run()"
   ]
  }
 ],
 "metadata": {
  "language_info": {
   "name": "python"
  }
 },
 "nbformat": 4,
 "nbformat_minor": 5
}
