{
 "cells": [
  {
   "cell_type": "code",
   "execution_count": 11,
   "metadata": {},
   "outputs": [
    {
     "name": "stdout",
     "output_type": "stream",
     "text": [
      " * Serving Flask app '__main__' (lazy loading)\n",
      " * Environment: production\n",
      "\u001b[31m   WARNING: This is a development server. Do not use it in a production deployment.\u001b[0m\n",
      "\u001b[2m   Use a production WSGI server instead.\u001b[0m\n",
      " * Debug mode: off\n"
     ]
    },
    {
     "name": "stderr",
     "output_type": "stream",
     "text": [
      " * Running on http://127.0.0.1:5000/ (Press CTRL+C to quit)\n",
      "[2022-04-03 17:10:40,994] ERROR in app: Exception on /uploadimage [GET]\n",
      "Traceback (most recent call last):\n",
      "  File \"/Users/affanahmed/miniforge3/envs/tf_ml/lib/python3.8/site-packages/flask/app.py\", line 2073, in wsgi_app\n",
      "    response = self.full_dispatch_request()\n",
      "  File \"/Users/affanahmed/miniforge3/envs/tf_ml/lib/python3.8/site-packages/flask/app.py\", line 1518, in full_dispatch_request\n",
      "    rv = self.handle_user_exception(e)\n",
      "  File \"/Users/affanahmed/miniforge3/envs/tf_ml/lib/python3.8/site-packages/flask/app.py\", line 1516, in full_dispatch_request\n",
      "    rv = self.dispatch_request()\n",
      "  File \"/Users/affanahmed/miniforge3/envs/tf_ml/lib/python3.8/site-packages/flask/app.py\", line 1502, in dispatch_request\n",
      "    return self.ensure_sync(self.view_functions[rule.endpoint])(**req.view_args)\n",
      "  File \"/var/folders/_r/c_rfryhs5lb0xw1r095ds3k00000gn/T/ipykernel_29677/2199720799.py\", line 26, in requestResults\n",
      "    filename = str(me['filename'])\n",
      "KeyError: 'filename'\n",
      "127.0.0.1 - - [03/Apr/2022 17:10:40] \"GET /uploadimage HTTP/1.1\" 500 -\n"
     ]
    },
    {
     "name": "stdout",
     "output_type": "stream",
     "text": [
      "{'imageurl': 'https://res.cloudinary.com/dtxenzpgx/image/upload/v1648560634/0b19b0de7e3aa80a75e22e78885da989_fobfee.jpg', 'text': 'demo', 'file': 'random'}\n"
     ]
    },
    {
     "name": "stderr",
     "output_type": "stream",
     "text": [
      "127.0.0.1 - - [03/Apr/2022 17:10:58] \"GET /uploadimage HTTP/1.1\" 200 -\n"
     ]
    },
    {
     "name": "stdout",
     "output_type": "stream",
     "text": [
      "{'imageurl': 'https://res.cloudinary.com/dtxenzpgx/image/upload/v1648560634/0b19b0de7e3aa80a75e22e78885da989_fobfee.jpg', 'text': 'demo', 'filename': 'random'}\n"
     ]
    }
   ],
   "source": [
    "#web dev. framework\n",
    "from flask import Flask, render_template, request, redirect, url_for\n",
    "from joblib import load\n",
    "import json \n",
    "from flask import jsonify\n",
    "#serializes data to JavaScript Object Notation (JSON) format\n",
    "\n",
    "app = Flask(__name__)\n",
    " \n",
    "@app.route(\"/\")\n",
    "def hello():\n",
    "  return \"Hello World!\"\n",
    "\n",
    "\n",
    "\n",
    "@app.route(\"/getimage/<page>\")\n",
    "def upload(page):\n",
    "  return render_template(f\"{page}.html\")\n",
    "\n",
    "@app.route('/uploadimage',methods=['POST','GET'])\n",
    "def requestResults():\n",
    "    me = json.loads(request.data)\n",
    "    print(me)\n",
    "    url = str(me[\"imageurl\"])\n",
    "    text = str(me['text'])\n",
    "    filename = str(me['filename'])\n",
    "    boilerplate = f'''\n",
    "                 <head>\n",
    "                  <meta name=\"twitter:card\" content=\"summary\" />\n",
    "                 <meta name=\"twitter:site\" content=\"@tapaway\" />\n",
    "                 <meta name=\"twitter:title\" content=\"demo\" />\n",
    "                 <meta name=\"twitter:description\" content=\"{text}\" />\n",
    "                 <meta name=\"twitter:image\" content=\"{url}\" />\n",
    "                 <meta name=\"twitter:url\" content=\"https://twitter.com\" />\n",
    "               </head>\n",
    "               <body>\n",
    "                <img src=\"{url}\" />\n",
    "               </body>\n",
    "    '''\n",
    "    file = open(f\"templates//{filename}.html\",'w')\n",
    "    file.write(boilerplate)\n",
    "    file.close()\n",
    "    response = {\n",
    "        \"action_status\":200\n",
    "    }\n",
    "    return jsonify(response)\n",
    "\n",
    "\n",
    "if __name__ == \"__main__\":\n",
    "  app.run()"
   ]
  },
  {
   "cell_type": "code",
   "execution_count": 8,
   "metadata": {},
   "outputs": [
    {
     "data": {
      "text/plain": [
       "True"
      ]
     },
     "execution_count": 8,
     "metadata": {},
     "output_type": "execute_result"
    }
   ],
   "source": [
    "a =  \"http://127.0.0.1:5000/uploadimage?imageurl=https://firebasestorage.googleapis.com/v0/b/twitterdata-68bce.appspot.com/o/1649737176864?alt=media%26token=68e3ad9b-0ba8-47f7-985c-6a29616bf0cc&text=Demotext&filename=1649737176864\"\n",
    "b =  \"http://127.0.0.1:5000/uploadimage?imageurl=https://firebasestorage.googleapis.com/v0/b/twitterdata-68bce.appspot.com/o/1649737176864?alt=media%26token=68e3ad9b-0ba8-47f7-985c-6a29616bf0cc&text=Demotext&filename=1649737176864\"\n",
    "a == b\n"
   ]
  },
  {
   "cell_type": "code",
   "execution_count": null,
   "metadata": {},
   "outputs": [],
   "source": []
  }
 ],
 "metadata": {
  "interpreter": {
   "hash": "2c9944577c2e2a67a44e56f6722eec98f1d328bade7e03eb37b10c3c70e58ea3"
  },
  "kernelspec": {
   "display_name": "Python 3.8.12 ('tf_ml')",
   "language": "python",
   "name": "python3"
  },
  "language_info": {
   "codemirror_mode": {
    "name": "ipython",
    "version": 3
   },
   "file_extension": ".py",
   "mimetype": "text/x-python",
   "name": "python",
   "nbconvert_exporter": "python",
   "pygments_lexer": "ipython3",
   "version": "3.8.12"
  },
  "orig_nbformat": 4
 },
 "nbformat": 4,
 "nbformat_minor": 2
}
